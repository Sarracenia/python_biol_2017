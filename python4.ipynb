{
 "cells": [
  {
   "cell_type": "code",
   "execution_count": 29,
   "metadata": {},
   "outputs": [],
   "source": [
    "seq = 'ACTGAATGCT'\n",
    "seq2=\"AATTAAGTAGCATGACGTACGTACGACTGGCTGACTAGCTAGTCAGTCGTTGCAGTCTTT\"\n",
    "seq3=\"AAAAGAAAATTCTTTTTTCG\"\n",
    "seq4=\"GAGAGAGAAAGGGGAAAAGG\""
   ]
  },
  {
   "cell_type": "code",
   "execution_count": 2,
   "metadata": {
    "collapsed": true
   },
   "outputs": [],
   "source": [
    "def nucl_freq(sequence, nucleotide):\n",
    "    \"\"\"Vrací frekvenci zadaného nukleotidu v sekvenci\"\"\"\n",
    "    freq = sequence.count(nucleotide)/len(sequence)\n",
    "    return(freq)"
   ]
  },
  {
   "cell_type": "code",
   "execution_count": 13,
   "metadata": {},
   "outputs": [],
   "source": [
    "def nucl_freq_all(sequence):\n",
    "    \"\"\"Udává frekvence nukleotidů v sekvenci\"\"\"\n",
    "    freq_A = nucl_freq(sequence=sequence,nucleotide = \"A\")\n",
    "    freq_T = nucl_freq(sequence=sequence,nucleotide = \"T\")\n",
    "    freq_C = nucl_freq(sequence=sequence,nucleotide = \"C\")\n",
    "    freq_G = nucl_freq(sequence=sequence,nucleotide = \"G\")\n",
    "    frequency = {\"A\":freq_A, \"T\":freq_T, \"C\":freq_C, \"G\":freq_G}\n",
    "    return(frequency)"
   ]
  },
  {
   "cell_type": "code",
   "execution_count": 37,
   "metadata": {},
   "outputs": [
    {
     "data": {
      "text/plain": [
       "({'A': 0.3, 'C': 0.2, 'G': 0.2, 'T': 0.3},\n",
       " {'A': 0.25, 'C': 0.2, 'G': 0.25, 'T': 0.3},\n",
       " {'A': 0.4, 'C': 0.1, 'G': 0.1, 'T': 0.4},\n",
       " {'A': 0.5, 'C': 0.0, 'G': 0.5, 'T': 0.0})"
      ]
     },
     "execution_count": 37,
     "metadata": {},
     "output_type": "execute_result"
    }
   ],
   "source": [
    "seq2_f = nucl_freq_all(seq2)\n",
    "seq_f = nucl_freq_all(seq)\n",
    "seq3_f = nucl_freq_all(seq3)\n",
    "seq4_f = nucl_freq_all(seq4)\n",
    "seq_f,seq2_f,seq3_f,seq4_f"
   ]
  },
  {
   "cell_type": "code",
   "execution_count": 32,
   "metadata": {},
   "outputs": [],
   "source": [
    "assert nucl_freq(seq4,\"A\") == 0.5, 'Je to špatně {}'.format(nucl_freq(seq4, \"A\"))\n",
    "assert nucl_freq(seq4,\"G\") == 0.5, 'Je to špatně {}'.format(nucl_freq(seq4, \"G\"))\n",
    "assert nucl_freq(seq3,\"C\") == 0.1, 'Je to špatně {}'.format(nucl_freq(seq3, \"C\"))\n",
    "assert nucl_freq(seq4,\"T\") == 0.0, 'Je to špatně {}'.format(nucl_freq(seq4, \"T\"))\n",
    "assert nucl_freq(seq2,\"A\") == 0.25, 'Je to špatně {}'.format(nucl_freq(seq2, \"A\"))\n",
    "assert nucl_freq(seq,\"G\") == 0.2, 'Je to špatně {}'.format(nucl_freq(seq, \"G\"))\n"
   ]
  }
 ],
 "metadata": {
  "kernelspec": {
   "display_name": "Python 3",
   "language": "python",
   "name": "python3"
  },
  "language_info": {
   "codemirror_mode": {
    "name": "ipython",
    "version": 3
   },
   "file_extension": ".py",
   "mimetype": "text/x-python",
   "name": "python",
   "nbconvert_exporter": "python",
   "pygments_lexer": "ipython3",
   "version": "3.6.1"
  }
 },
 "nbformat": 4,
 "nbformat_minor": 2
}
