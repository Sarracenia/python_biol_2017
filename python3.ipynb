{
 "cells": [
  {
   "cell_type": "code",
   "execution_count": 2,
   "metadata": {
    "collapsed": true
   },
   "outputs": [],
   "source": [
    "letters = \"aábcčdďeéěfghiíjklmnňoópqrřsštťuúůvwxyýzž\""
   ]
  },
  {
   "cell_type": "code",
   "execution_count": 16,
   "metadata": {
    "collapsed": true
   },
   "outputs": [],
   "source": [
    "letters = [x for x in letters]"
   ]
  },
  {
   "cell_type": "code",
   "execution_count": 23,
   "metadata": {
    "collapsed": true
   },
   "outputs": [],
   "source": [
    "numbers = \"1234567890\""
   ]
  },
  {
   "cell_type": "code",
   "execution_count": 24,
   "metadata": {
    "collapsed": true
   },
   "outputs": [],
   "source": [
    "numbers = [x for x in numbers]"
   ]
  },
  {
   "cell_type": "code",
   "execution_count": 30,
   "metadata": {},
   "outputs": [],
   "source": [
    "pohadka = 'Král řekl Honzovi: \"Ta saň má 7 hlav! Zabij ji a dostaneš 1/2 království.\"'"
   ]
  },
  {
   "cell_type": "code",
   "execution_count": 32,
   "metadata": {},
   "outputs": [],
   "source": [
    "pohadka = [x for x in pohadka]"
   ]
  },
  {
   "cell_type": "code",
   "execution_count": 31,
   "metadata": {},
   "outputs": [],
   "source": [
    "pohadka = pohadka.lower()"
   ]
  },
  {
   "cell_type": "code",
   "execution_count": 73,
   "metadata": {},
   "outputs": [],
   "source": [
    "letters_story = []\n",
    "numbers_story = []\n",
    "remaining = []"
   ]
  },
  {
   "cell_type": "code",
   "execution_count": 45,
   "metadata": {},
   "outputs": [
    {
     "data": {
      "text/plain": [
       "[]"
      ]
     },
     "execution_count": 45,
     "metadata": {},
     "output_type": "execute_result"
    }
   ],
   "source": [
    "letters_story"
   ]
  },
  {
   "cell_type": "code",
   "execution_count": 74,
   "metadata": {},
   "outputs": [
    {
     "name": "stdout",
     "output_type": "stream",
     "text": [
      "V pohádce se nachází 52 písmen, 3 číslic a 19 dalších znaků.\n"
     ]
    }
   ],
   "source": [
    "for i in pohadka:\n",
    "    if i in letters:\n",
    "        letters_story.append(i)\n",
    "    elif i in numbers:\n",
    "        numbers_story.append(i)\n",
    "    else:\n",
    "        remaining.append(i)\n",
    "print(\"V pohádce se nachází {} písmen, {} číslic a {} dalších znaků.\".format(len(letters_story),len(numbers_story),len(remaining)))"
   ]
  },
  {
   "cell_type": "code",
   "execution_count": 70,
   "metadata": {},
   "outputs": [
    {
     "data": {
      "text/plain": [
       "52"
      ]
     },
     "execution_count": 70,
     "metadata": {},
     "output_type": "execute_result"
    }
   ],
   "source": [
    "len(letters_story)"
   ]
  },
  {
   "cell_type": "code",
   "execution_count": 120,
   "metadata": {},
   "outputs": [
    {
     "name": "stdout",
     "output_type": "stream",
     "text": [
      "Kolikpak je vaší kočičce let? 20\n",
      "Kočičce je 100 lidských let\n"
     ]
    }
   ],
   "source": [
    "cat_age = int(input(\"Kolikpak je vaší kočičce let? \"))\n",
    "if cat_age<=1:\n",
    "    human_age = cat_age*18\n",
    "    print(\"Kočičce je {} lidských let\" .format(human_age))\n",
    "elif 1<cat_age <=2:\n",
    "    human_age = 18+(cat_age-1)*7\n",
    "    print(\"Kočičce je {} lidských let\" .format(human_age))\n",
    "elif 2<cat_age<5:\n",
    "    human_age = 25+(cat_age-2)*5\n",
    "    print(\"Kočičce je {} lidských let\" .format(human_age))\n",
    "elif 5<=cat_age:\n",
    "    human_age = 40+(cat_age-5)*4\n",
    "    print(\"Kočičce je {} lidských let\" .format(human_age))"
   ]
  }
 ],
 "metadata": {
  "kernelspec": {
   "display_name": "Python 3",
   "language": "python",
   "name": "python3"
  },
  "language_info": {
   "codemirror_mode": {
    "name": "ipython",
    "version": 3
   },
   "file_extension": ".py",
   "mimetype": "text/x-python",
   "name": "python",
   "nbconvert_exporter": "python",
   "pygments_lexer": "ipython3",
   "version": "3.6.1"
  }
 },
 "nbformat": 4,
 "nbformat_minor": 2
}
